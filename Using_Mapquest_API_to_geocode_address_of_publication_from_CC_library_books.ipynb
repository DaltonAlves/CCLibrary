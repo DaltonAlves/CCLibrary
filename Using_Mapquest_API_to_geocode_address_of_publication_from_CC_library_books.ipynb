{
  "nbformat": 4,
  "nbformat_minor": 0,
  "metadata": {
    "colab": {
      "name": "Using Mapquest API to geocode address of publication from CC library books",
      "provenance": [],
      "collapsed_sections": [],
      "authorship_tag": "ABX9TyNpSHmz5IUf/w1FUpxV0xsz",
      "include_colab_link": true
    },
    "kernelspec": {
      "name": "python3",
      "display_name": "Python 3"
    },
    "language_info": {
      "name": "python"
    }
  },
  "cells": [
    {
      "cell_type": "markdown",
      "metadata": {
        "id": "view-in-github",
        "colab_type": "text"
      },
      "source": [
        "<a href=\"https://colab.research.google.com/github/DaltonAlves/CCLibrary/blob/main/Using_Mapquest_API_to_geocode_address_of_publication_from_CC_library_books.ipynb\" target=\"_parent\"><img src=\"https://colab.research.google.com/assets/colab-badge.svg\" alt=\"Open In Colab\"/></a>"
      ]
    },
    {
      "cell_type": "code",
      "execution_count": null,
      "metadata": {
        "id": "wyHRiMR6kp8D"
      },
      "outputs": [],
      "source": [
        "import pandas as pd"
      ]
    },
    {
      "cell_type": "code",
      "source": [
        "import requests"
      ],
      "metadata": {
        "id": "DdjefItpksAC"
      },
      "execution_count": null,
      "outputs": []
    },
    {
      "cell_type": "code",
      "source": [
        "import json"
      ],
      "metadata": {
        "id": "QEgtBOmgktx1"
      },
      "execution_count": null,
      "outputs": []
    },
    {
      "cell_type": "code",
      "source": [
        "#Read CC library csv\n",
        "df = pd.read_csv(\"cc_lib.csv\")"
      ],
      "metadata": {
        "id": "HVdS56yNkuup"
      },
      "execution_count": null,
      "outputs": []
    },
    {
      "cell_type": "code",
      "source": [
        "#API Call and get latitude & longitude values\n",
        "for i, row in df.iterrows():\n",
        "  apiAddress = str(df.at[i,'City'])+','+str(df.at[i,'State'])+','+str(df.at[i,'Country'])\n",
        "  \n",
        "  parameters = {\n",
        "      \"key\" : \"xXupKcKUpGykUP3rKjTosNRLGUWXdENL\",\n",
        "      \"location\" : apiAddress\n",
        "  }\n",
        "\n",
        "  response = requests.get(\"http://www.mapquestapi.com/geocoding/v1/address\", params = parameters)\n",
        "  data = json.loads(response.text)['results']\n",
        "\n",
        "  lat = data[0]['locations'][0]['latLng']['lat']\n",
        "  lng = data[0]['locations'][0]['latLng']['lng']\n",
        "  \n",
        "  df.at[i,\"lat\"] = lat\n",
        "  df.at[i,\"lng\"] = lng\n",
        "\n",
        "#Save CSV with lat/lng\n",
        "df.to_csv('cc_lib_GEO.csv')\n"
      ],
      "metadata": {
        "id": "vSG_Ejm1lNQM"
      },
      "execution_count": null,
      "outputs": []
    },
    {
      "cell_type": "code",
      "source": [
        "print(apiAddress)"
      ],
      "metadata": {
        "id": "jOGGSEkqq8ZF"
      },
      "execution_count": null,
      "outputs": []
    },
    {
      "cell_type": "code",
      "source": [
        ""
      ],
      "metadata": {
        "id": "8rdF9YWUsJkl"
      },
      "execution_count": null,
      "outputs": []
    }
  ]
}